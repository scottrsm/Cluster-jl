{
 "cells": [
  {
   "cell_type": "code",
   "execution_count": null,
   "id": "67d3ff4e-d704-4dae-b84e-6dafb63270d7",
   "metadata": {},
   "outputs": [],
   "source": [
    "using Revise\n",
    "using Plots\n",
    "using Test\n",
    "import Random\n",
    "using BenchmarkTools"
   ]
  },
  {
   "cell_type": "code",
   "execution_count": null,
   "id": "e50472ed-da55-4f3f-921e-df860881c41d",
   "metadata": {},
   "outputs": [],
   "source": [
    "using Cluster"
   ]
  },
  {
   "cell_type": "markdown",
   "id": "ad901e68-8852-4dbe-8dd7-99d8b8d19811",
   "metadata": {},
   "source": [
    "### Generate a Cluster Problem\n",
    "- Create 20 distinct points: 10 in $R^2$ and 10 in $R^5$.\n",
    "- Added noise about these points."
   ]
  },
  {
   "cell_type": "code",
   "execution_count": null,
   "id": "ff6261b3-9de4-4478-8faf-b72545f00da4",
   "metadata": {},
   "outputs": [],
   "source": [
    "Random.seed!(1)\n",
    "M1 = [-1,-2] .+ rand(2, 100)\n",
    "M2 = 3.0 .* [1,2] .+ rand(2, 100)\n",
    "M3 = 6.0 .* [2,1] .+ rand(2, 100)\n",
    "M4 = 9.0 .* [1,1] .+ rand(2, 100)\n",
    "M44 = copy(M4)\n",
    "M5 = 12.0 .* [-1, 1] .+ rand(2, 100)\n",
    "M6 = 15.0 .* [0.5, 3.0] .+ rand(2, 100)\n",
    "M7 = 18.0 .+ [-2.4, 1.0] .+ rand(2, 100)\n",
    "M8 = 21.0 .+ [0.3, -0.3] .* rand(2, 100)\n",
    "M9 = 24.0 .+ rand(2, 100)\n",
    "M10 = 27.0 .+ rand(2, 100)\n",
    "\n",
    "M = hcat(M1, M2, M3, M4, M5, M6, M7, M8, M9, M10)"
   ]
  },
  {
   "cell_type": "code",
   "execution_count": null,
   "id": "eee5512c-eb2f-44b5-b8fb-83112e8ebe9d",
   "metadata": {},
   "outputs": [],
   "source": [
    "Random.seed!(1)\n",
    "M51 = [-1,-2, 1, 2, 0] .+ rand(5, 100)\n",
    "M52 = 3.0 .* [1,1,3,4,5] .+ rand(5, 100)\n",
    "M53 = 6.0 .* [2,1, 1, 2, 1] .+ rand(5, 100)\n",
    "M54 = 9.0 .* [1,1, 0, 1, 2] .+ rand(5, 100)\n",
    "M55 = 12.0 .* [-1, 1, -1, 2, 1] .+ rand(5, 100)\n",
    "M56 = 15.0 .* [0.5, 3.0, 0, 1, 2] .+ rand(5, 100)\n",
    "M57 = 18.0 .+ [-2.4, 1.0, -1, 2, 3] .+ rand(5, 100)\n",
    "M58 = 21.0 .+ [0.3, -0.3, 0.5, 0.5, 0.8] .* rand(5, 100)\n",
    "M59 = 24.0 .+ rand(5, 100)\n",
    "M510 = 27.0 .+ rand(5, 100)\n",
    "\n",
    "MM5 = hcat(M51, M52, M53, M54, M55, M56, M57, M58, M59, M510)"
   ]
  },
  {
   "cell_type": "markdown",
   "id": "8fd1fb86-8531-4690-ba03-9a8bacc7d5b6",
   "metadata": {},
   "source": [
    "### Find the best Clusters\n",
    "- Find best info for a range of cluster numbers.\n",
    "    - `ds` : The Total Variation for the cluster.                    Int -> Float\n",
    "    - `mp` : Map of the Index of a point to the index of a Centroid. Int -> (Int -> Int) \n",
    "    - `xc` : The map of Centroid Indices to Centroids.               Int -> (2xn)Matrix{Float}\n",
    "    - `sd` : The list of unused Centroid Indices.                    Int -> Vector{Int}"
   ]
  },
  {
   "cell_type": "markdown",
   "id": "b5860025-ea98-4228-b459-a2c49284a68a",
   "metadata": {},
   "source": [
    "### Plot the Result"
   ]
  },
  {
   "cell_type": "code",
   "execution_count": null,
   "id": "a59b050d-405c-4cff-b174-43d48d1619c8",
   "metadata": {},
   "outputs": [],
   "source": [
    "@time kbest, mp, xc, tv = find_best_cluster(M4, 1:15, verbose=true, num_trials=300, N=1000, threshold=1.0e-2, seed=123)"
   ]
  },
  {
   "cell_type": "code",
   "execution_count": null,
   "id": "078a4cd4-d1e9-495c-9ed8-8bd2889e3de9",
   "metadata": {},
   "outputs": [],
   "source": [
    "x = xc[1, :]\n",
    "y = xc[2, :]\n",
    "\n",
    "xp = M4[1, :]\n",
    "yp = M4[2, :];\n",
    "\n",
    "xs = vcat(xp, x)\n",
    "xmin = minimum(xs)\n",
    "xmax = maximum(xs)\n",
    "\n",
    "ys = vcat(yp, y)\n",
    "ymin = minimum(ys)\n",
    "ymax = maximum(ys)\n",
    "\n",
    "plot(xp, yp, seriestype=:scatter, color=\"blue\", legend=:none, xlims=(xmin-1.0, xmax+1.0), ylims=(ymin-1.0, ymax+1.0))\n",
    "g = plot!(x, y, seriestype=:scatter, color=\"yellow\")"
   ]
  },
  {
   "cell_type": "code",
   "execution_count": null,
   "id": "1ab59461-f81d-4c53-9639-790f42a91bfc",
   "metadata": {},
   "outputs": [],
   "source": [
    "@time kbest, mp, xc, tv = find_best_cluster(M, 1:15, verbose=true, num_trials=300, N=1000, threshold=1.0e-2)"
   ]
  },
  {
   "cell_type": "code",
   "execution_count": null,
   "id": "d46fda2d-c963-4df2-aad9-da1abc483082",
   "metadata": {},
   "outputs": [],
   "source": [
    "x = xc[1, :]\n",
    "y = xc[2, :]\n",
    "\n",
    "xp = M[1, :]\n",
    "yp = M[2, :];\n",
    "\n",
    "xs = vcat(xp, x)\n",
    "xmin = minimum(xs)\n",
    "xmax = maximum(xs)\n",
    "\n",
    "ys = vcat(yp, y)\n",
    "ymin = minimum(ys)\n",
    "ymax = maximum(ys)\n",
    "\n",
    "plot(xp, yp, seriestype=:scatter, color=\"blue\", legend=:none, xlims=(xmin-1.0, xmax+1.0), ylims=(ymin-1.0, ymax+1.0))\n",
    "g = plot!(x, y, seriestype=:scatter, color=\"yellow\")"
   ]
  },
  {
   "cell_type": "markdown",
   "id": "c4dde2f9-d676-4067-8f74-f86f70cf845a",
   "metadata": {},
   "source": [
    "### Higher Dimensional, but Similar Example\n",
    "Same as previous example, but now in 5 dimensions.\n",
    "\n",
    "We can't easily examine a 5 dimensional space, so take two of the 5 coordinates: 1 and 4 \n",
    "and examine the project onto this 2 dimensional plane."
   ]
  },
  {
   "cell_type": "code",
   "execution_count": null,
   "id": "6d702c70-c224-4520-9172-40512ad025d3",
   "metadata": {},
   "outputs": [],
   "source": [
    "@time kbest, mp, xc, tv = find_best_cluster(MM5, 1:15, verbose=true, num_trials=300, N=1000, threshold=1.0e-2)"
   ]
  },
  {
   "cell_type": "code",
   "execution_count": null,
   "id": "23c8cdb3-cdc4-446f-8455-fa1c1665f449",
   "metadata": {},
   "outputs": [],
   "source": [
    "\n",
    "x = xc[1, :]\n",
    "y = xc[4, :]\n",
    "\n",
    "xp = MM5[1, :]\n",
    "yp = MM5[4, :];\n",
    "\n",
    "xs = vcat(xp, x)\n",
    "xmin = minimum(xs)\n",
    "xmax = maximum(xs)\n",
    "\n",
    "ys = vcat(yp, y)\n",
    "ymin = minimum(ys)\n",
    "ymax = maximum(ys)\n",
    "\n",
    "plot(xp, yp, seriestype=:scatter, color=\"blue\", legend=:none, xlims=(xmin-1.0, xmax+1.0), ylims=(ymin-1.0, ymax+1.0))\n",
    "g = plot!(x, y, seriestype=:scatter, color=\"yellow\")"
   ]
  },
  {
   "cell_type": "code",
   "execution_count": null,
   "id": "7eebe0b4-9c78-428c-b333-96a6f71eab51",
   "metadata": {},
   "outputs": [],
   "source": [
    "savefig(g,\"synth_data_set_test.svg\")"
   ]
  },
  {
   "cell_type": "markdown",
   "id": "4859e3d5-530b-45ef-b78d-c0b5ca6cb6be",
   "metadata": {},
   "source": [
    "### Another Similar Test in 4 Dimensions"
   ]
  },
  {
   "cell_type": "code",
   "execution_count": null,
   "id": "269ebc8c-9974-420c-8e19-31f64cee62e3",
   "metadata": {},
   "outputs": [],
   "source": [
    "Random.seed!(1)\n",
    "M1 = [-1,-2,1, 1] .+ rand(4, 100)\n",
    "M2 = 3.0 .* [1,2, -1, 2] .+ rand(4, 100)\n",
    "M3 = 6.0 .* [2,1, 0, 3] .+ rand(4, 100)\n",
    "M4 = 9.0 .* [1,1, -2, 0] .+ rand(4, 100)\n",
    "M5 = 12.0 .* [-1, 1, 2, 2] .+ rand(4, 100)\n",
    "M6 = 15.0 .* [0.5, 3.0, 2, -2] .+ rand(4, 100)\n",
    "M7 = 18.0 .+ [-2.4, 1.0, 2, 0] .+ rand(4, 100)\n",
    "M8 = 21.0 .+ [0.3, -0.3, 1, -1] .* rand(4, 100)\n",
    "M9 = 24.0 .+ rand(4, 100)\n",
    "M10 = 27.0 .+ rand(4, 100)\n",
    "\n",
    "M = hcat(M1, M2, M3, M4, M5, M6, M7, M8, M9, M10)"
   ]
  },
  {
   "cell_type": "code",
   "execution_count": null,
   "id": "a10fbce6-9b3e-49c9-af82-a6e3a5ed6f85",
   "metadata": {},
   "outputs": [],
   "source": [
    "kbest, mp, xc, tv = find_best_cluster(M, 1:15, verbose=true, num_trials=300, N=1000, threshold=1.0e-2)"
   ]
  },
  {
   "cell_type": "code",
   "execution_count": null,
   "id": "6d019c2c-2599-4b58-af41-df93516e0df3",
   "metadata": {},
   "outputs": [],
   "source": [
    "kbest"
   ]
  },
  {
   "cell_type": "markdown",
   "id": "a30ea6c2-1196-483e-803a-ecccd1b256bc",
   "metadata": {},
   "source": [
    "## Apply find_best_cluster to Iris DataSet\n",
    "We will also use a number of different distance metrics."
   ]
  },
  {
   "cell_type": "code",
   "execution_count": null,
   "id": "47da2398-93d1-4c79-a8aa-bbdc408828df",
   "metadata": {},
   "outputs": [],
   "source": [
    "import RDatasets"
   ]
  },
  {
   "cell_type": "code",
   "execution_count": null,
   "id": "a83e2032-1400-400f-a6bb-d10c8cfc1a67",
   "metadata": {},
   "outputs": [],
   "source": [
    "iris = RDatasets.dataset(\"datasets\", \"iris\")"
   ]
  },
  {
   "cell_type": "code",
   "execution_count": null,
   "id": "25586cf0-4928-4b05-a7cc-4a290f014220",
   "metadata": {},
   "outputs": [],
   "source": [
    "MI = permutedims(Matrix(iris[:, [:SepalWidth, :SepalLength]]), (2,1))\n"
   ]
  },
  {
   "cell_type": "code",
   "execution_count": null,
   "id": "6b3e9594-93fc-4e67-a603-13fa7889a558",
   "metadata": {},
   "outputs": [],
   "source": [
    "kbest, mp, xc, tv = find_best_cluster(MI, 1:7; dmetric=L2, verbose=true, num_trials=300, N=1000, threshold=1.0e-2)"
   ]
  },
  {
   "cell_type": "code",
   "execution_count": null,
   "id": "d3b11bda-c09f-497b-849e-260861f50a62",
   "metadata": {},
   "outputs": [],
   "source": [
    "xc"
   ]
  },
  {
   "cell_type": "code",
   "execution_count": null,
   "id": "61ae7c16-a16a-49e1-80e1-679dab57bf20",
   "metadata": {},
   "outputs": [],
   "source": [
    "cmap = find_cluster_map(Symbol.(iris[:, :Species]), mp)"
   ]
  },
  {
   "cell_type": "code",
   "execution_count": null,
   "id": "4d4b4686-79d2-4c50-973b-1fb073702ab2",
   "metadata": {},
   "outputs": [],
   "source": [
    "Cluster.predict(permutedims(Matrix(iris[:, [:SepalWidth, :SepalLength]])), xc, cmap)"
   ]
  },
  {
   "cell_type": "code",
   "execution_count": null,
   "id": "90ffbe53-3a6d-4db2-852e-83d144a7b91d",
   "metadata": {},
   "outputs": [],
   "source": [
    "iris[:, [:SepalWidth, :SepalLength]];"
   ]
  },
  {
   "cell_type": "code",
   "execution_count": null,
   "id": "c2556100-13f7-46cf-8503-42fbb379d550",
   "metadata": {},
   "outputs": [],
   "source": [
    "x = xc[1, :]\n",
    "y = xc[2, :];"
   ]
  },
  {
   "cell_type": "code",
   "execution_count": null,
   "id": "2e4d95b2-5fea-4f56-8ff3-b3050b2ef1f3",
   "metadata": {},
   "outputs": [],
   "source": [
    "xr,yr,mat = raw_confusion_matrix(mp, Symbol.(iris[:, :Species]))"
   ]
  },
  {
   "cell_type": "code",
   "execution_count": null,
   "id": "6a5f713c-9350-48e2-80c9-7c657361906b",
   "metadata": {},
   "outputs": [],
   "source": [
    "argmax(mat, dims=1)[1,:]"
   ]
  },
  {
   "cell_type": "code",
   "execution_count": null,
   "id": "dcbc66bc-a028-4308-b564-e20d6fcec637",
   "metadata": {},
   "outputs": [],
   "source": [
    "# Get the x,y points of the IRIS dataset (SepalWidth, SepalLength).\n",
    "xp = MI[1, :]\n",
    "yp = MI[2, :];\n",
    "\n",
    "# Map the :Species column to cluster centers.\n",
    "sp = map(iris[:, :Species]) do spec\n",
    "      if spec == \"virginica\"\n",
    "        1\n",
    "    elseif spec == \"versicolor\"\n",
    "        2\n",
    "    else\n",
    "        3\n",
    "    end\n",
    "    end;\n",
    "\n",
    "# Get the species column.\n",
    "spec = iris[:, :Species];"
   ]
  },
  {
   "cell_type": "code",
   "execution_count": null,
   "id": "e66199b3-e845-4e18-9d1a-ef3703d63fa9",
   "metadata": {},
   "outputs": [],
   "source": [
    "# To plot the IRIS x,y points along with the clusters, for graphing purposes, we need to find an approprate bounding box.\n",
    "xs = vcat(xp, x)\n",
    "xmin = minimum(xs)\n",
    "xmax = maximum(xs)\n",
    "\n",
    "ys = vcat(yp, y)\n",
    "ymin = minimum(ys)\n",
    "ymax = maximum(ys)\n",
    "\n",
    "# Plot the IRIS points, followed by the cluster centers in yellow.\n",
    "plot(xp, yp, seriestype=:scatter, color=sp, group=spec, title=\"IRIS: Best K-means with metric L2\", legend=true, xlims=(xmin-1.0, xmax+1.0), ylims=(ymin-1.0, ymax+1.0))\n",
    "g = plot!(x, y, seriestype=:scatter, color=\"yellow\", label=\"K-Means Centers\")"
   ]
  },
  {
   "cell_type": "code",
   "execution_count": null,
   "id": "33f9958f-8ee0-4d7f-bb11-143dcc8a4f34",
   "metadata": {},
   "outputs": [],
   "source": [
    "savefig(g,\"iris_dataset_test.svg\")"
   ]
  },
  {
   "cell_type": "markdown",
   "id": "d88d05c6-fa10-4ff8-853b-20e9b96d78b9",
   "metadata": {},
   "source": [
    "### Repeat the Above for Different Metrics."
   ]
  },
  {
   "cell_type": "code",
   "execution_count": null,
   "id": "864846dc-ebff-4219-8c1a-befaf92e32e3",
   "metadata": {},
   "outputs": [],
   "source": [
    "# Notice the way we provide the L1 metric. We use the LP function which has an extra parameter that we need to pass to give us the L1 function; namely \"1\".\n",
    "kbest, mp, xc, tv = find_best_cluster(MI, 1:15; dmetric=(x,y;kwargs...) -> LP(x,y,1;kwargs...), verbose=true, num_trials=300, N=1000, threshold=1.0e-2)"
   ]
  },
  {
   "cell_type": "code",
   "execution_count": null,
   "id": "4f114e1e-4962-4979-8fa5-796feac5c259",
   "metadata": {},
   "outputs": [],
   "source": [
    "xc"
   ]
  },
  {
   "cell_type": "code",
   "execution_count": null,
   "id": "1ca90c00-3163-4d14-949e-335eaa890638",
   "metadata": {},
   "outputs": [],
   "source": [
    "x = xc[1, :]\n",
    "y = xc[2, :]"
   ]
  },
  {
   "cell_type": "code",
   "execution_count": null,
   "id": "cf0c7e6d-936f-4585-8b61-eb6025641303",
   "metadata": {},
   "outputs": [],
   "source": [
    "xp = MI[1, :]\n",
    "yp = MI[2, :];\n",
    "sp = map(iris[:, :Species]) do spec\n",
    "      if spec == \"virginica\"\n",
    "        1\n",
    "    elseif spec == \"versicolor\"\n",
    "        2\n",
    "    else\n",
    "        3\n",
    "    end\n",
    "    end;\n",
    "spec = iris[:, :Species];"
   ]
  },
  {
   "cell_type": "code",
   "execution_count": null,
   "id": "a6296f18-236f-4069-8219-1d473d35c89f",
   "metadata": {},
   "outputs": [],
   "source": [
    "\n",
    "xs = vcat(xp, x)\n",
    "xmin = minimum(xs)\n",
    "xmax = maximum(xs)\n",
    "\n",
    "ys = vcat(yp, y)\n",
    "ymin = minimum(ys)\n",
    "ymax = maximum(ys)\n",
    "\n",
    "\n",
    "plot(xp, yp, seriestype=:scatter, color=sp, group=spec, title=\"IRIS: Best K-means with metric L1\", legend=true, xlims=(xmin-1.0, xmax+1.0), ylims=(ymin-1.0, ymax+1.0))\n",
    "g = plot!(x, y, seriestype=:scatter, color=\"yellow\", label=\"K-Means Centers\")"
   ]
  },
  {
   "cell_type": "code",
   "execution_count": null,
   "id": "4f329f3e-c584-48b3-9e30-1f51b83b4efa",
   "metadata": {},
   "outputs": [],
   "source": [
    "# Find the best cluster number using the KL (Kullback-Liebler metric) -- a symmetrized version of the Kullback-Liebler divergence.\n",
    "kbest, mp, xc, tv = find_best_cluster(MI, 1:10; dmetric=KL, verbose=true, num_trials=300, N=1000, threshold=1.0e-2)"
   ]
  },
  {
   "cell_type": "code",
   "execution_count": null,
   "id": "9fe067aa-1b37-4dab-97e5-de74ae1d560f",
   "metadata": {},
   "outputs": [],
   "source": [
    "xc"
   ]
  },
  {
   "cell_type": "code",
   "execution_count": null,
   "id": "428f9a3e-09f3-433d-8eed-5cb519e3d8b0",
   "metadata": {},
   "outputs": [],
   "source": [
    "x = xc[1, :]\n",
    "y = xc[2, :]"
   ]
  },
  {
   "cell_type": "code",
   "execution_count": null,
   "id": "9b6d20af-6602-488e-a6bd-d59a43ffad75",
   "metadata": {},
   "outputs": [],
   "source": [
    "xr,yr,z = raw_confusion_matrix(Symbol.(iris[:, :Species]), mp)"
   ]
  },
  {
   "cell_type": "code",
   "execution_count": null,
   "id": "6c45ac62-5b99-48db-bf4c-19d8bba77039",
   "metadata": {},
   "outputs": [],
   "source": [
    "# Get the best map from the centers (represented as integers) to the Species attribute of the IRIS dataset.\n",
    "cmap = find_cluster_map(Symbol.(iris[:, :Species]), mp)"
   ]
  },
  {
   "cell_type": "code",
   "execution_count": null,
   "id": "487329af-09c7-4369-8724-14150a971d71",
   "metadata": {},
   "outputs": [],
   "source": [
    "xp = MI[1, :]\n",
    "yp = MI[2, :];\n",
    "\n",
    "sp = map(iris[:, :Species]) do spec\n",
    "      if spec == \"virginica\"\n",
    "        1\n",
    "    elseif spec == \"versicolor\"\n",
    "        2\n",
    "    else\n",
    "        3\n",
    "    end\n",
    "    end;\n",
    "spec = iris[:, :Species];"
   ]
  },
  {
   "cell_type": "code",
   "execution_count": null,
   "id": "990c5ea6-5d0c-4214-b14b-06239fbfdeaf",
   "metadata": {},
   "outputs": [],
   "source": [
    "xs = vcat(xp, x)\n",
    "xmin = minimum(xs)\n",
    "xmax = maximum(xs)\n",
    "\n",
    "ys = vcat(yp, y)\n",
    "ymin = minimum(ys)\n",
    "ymax = maximum(ys)\n",
    "\n",
    "plot(xp, yp, seriestype=:scatter, color=sp, group=spec, title=\"IRIS: Best K-means with metric KL\", legend=true, xlims=(xmin-1.0, xmax+1.0), ylims=(ymin-1.0, ymax+1.0))\n",
    "g = plot!(x, y, seriestype=:scatter, color=\"yellow\", label=\"K-Means Centers\")"
   ]
  },
  {
   "cell_type": "code",
   "execution_count": null,
   "id": "bdbf8b91-d29e-4135-a526-ff714a4864b1",
   "metadata": {},
   "outputs": [],
   "source": [
    "kbest, mp, xc, tv = find_best_cluster(MI, 1:15; dmetric=CD, verbose=true, num_trials=300, N=1000, threshold=1.0e-2)"
   ]
  },
  {
   "cell_type": "code",
   "execution_count": null,
   "id": "780ab9f5-4b4b-4cc6-a17e-1b60299c0949",
   "metadata": {},
   "outputs": [],
   "source": [
    "xc"
   ]
  },
  {
   "cell_type": "code",
   "execution_count": null,
   "id": "db15c5a8-aeb9-411e-bd65-4ecf5d9a6e5c",
   "metadata": {},
   "outputs": [],
   "source": [
    "x = xc[1, :]\n",
    "y = xc[2, :]"
   ]
  },
  {
   "cell_type": "code",
   "execution_count": null,
   "id": "e72f0af3-7588-4355-b288-f4722da7fdfe",
   "metadata": {},
   "outputs": [],
   "source": [
    "tv"
   ]
  },
  {
   "cell_type": "code",
   "execution_count": null,
   "id": "78135a53-8d93-417b-9747-278bd65614d5",
   "metadata": {},
   "outputs": [],
   "source": [
    "xp = MI[1, :]\n",
    "yp = MI[2, :];\n",
    "sp = map(iris[:, :Species]) do spec\n",
    "      if spec == \"virginica\"\n",
    "        1\n",
    "    elseif spec == \"versicolor\"\n",
    "        2\n",
    "    else\n",
    "        3\n",
    "    end\n",
    "    end;\n",
    "spec = iris[:, :Species];"
   ]
  },
  {
   "cell_type": "code",
   "execution_count": null,
   "id": "f6a8fdc3-7f1d-4d9d-af4c-bc37bee6f4f6",
   "metadata": {},
   "outputs": [],
   "source": [
    "xs = vcat(xp, x)\n",
    "xmin = minimum(xs)\n",
    "xmax = maximum(xs)\n",
    "\n",
    "ys = vcat(yp, y)\n",
    "ymin = minimum(ys)\n",
    "ymax = maximum(ys)\n",
    "\n",
    "plot(xp, yp, seriestype=:scatter, color=sp, group=spec, title=\"IRIS: Best K-means with metric CD\", legend=true, xlims=(xmin-1.0, xmax+1.0), ylims=(ymin-1.0, ymax+1.0))\n",
    "g = plot!(x, y, seriestype=:scatter, color=\"yellow\", label=\"K-Means Centers\")"
   ]
  },
  {
   "cell_type": "code",
   "execution_count": null,
   "id": "76057f7f-0c0a-44f2-ab18-6d8cfa6031cd",
   "metadata": {},
   "outputs": [],
   "source": [
    "kbest, mp, xc, tv = find_best_cluster(MI, 1:10; dmetric=JD, verbose=true, num_trials=300, N=1000, threshold=1.0e-2)"
   ]
  },
  {
   "cell_type": "code",
   "execution_count": null,
   "id": "42d0ef97-4a0f-4f9b-9980-17e123dbe132",
   "metadata": {},
   "outputs": [],
   "source": [
    "display(xc)"
   ]
  },
  {
   "cell_type": "code",
   "execution_count": null,
   "id": "00eac429-3ce5-41c2-9a60-989a88f196a0",
   "metadata": {},
   "outputs": [],
   "source": [
    "x = xc[1, :]\n",
    "y = xc[2, :]"
   ]
  },
  {
   "cell_type": "code",
   "execution_count": null,
   "id": "7dd773fe-a23f-4ddf-a04a-ca6aaa608291",
   "metadata": {},
   "outputs": [],
   "source": [
    "values(mp);"
   ]
  },
  {
   "cell_type": "code",
   "execution_count": null,
   "id": "73407ff6-0a7b-46d2-b5fc-764460c5a2e8",
   "metadata": {},
   "outputs": [],
   "source": [
    "xp = MI[1, :]\n",
    "yp = MI[2, :];\n",
    "sp = map(iris[:, :Species]) do spec\n",
    "      if spec == \"virginica\"\n",
    "        1\n",
    "    elseif spec == \"versicolor\"\n",
    "        2\n",
    "    else\n",
    "        3\n",
    "    end\n",
    "    end;\n",
    "spec = iris[:, :Species];"
   ]
  },
  {
   "cell_type": "code",
   "execution_count": null,
   "id": "d01def13-d349-41ff-9273-57ba7a34076c",
   "metadata": {},
   "outputs": [],
   "source": [
    "xs = vcat(xp, x)\n",
    "xmin = minimum(xs)\n",
    "xmax = maximum(xs)\n",
    "\n",
    "ys = vcat(yp, y)\n",
    "ymin = minimum(ys)\n",
    "ymax = maximum(ys)\n",
    "\n",
    "plot(xp, yp, seriestype=:scatter, color=sp, group=spec, title=\"IRIS: Best K-means with metric JD\", legend=true, xlims=(xmin-1.0, xmax+1.0), ylims=(ymin-1.0, ymax+1.0))\n",
    "g = plot!(x, y, seriestype=:scatter, color=\"yellow\", label=\"K-Means Centers\")"
   ]
  }
 ],
 "metadata": {
  "kernelspec": {
   "display_name": "Julia 1.10.0",
   "language": "julia",
   "name": "julia-1.10"
  },
  "language_info": {
   "file_extension": ".jl",
   "mimetype": "application/julia",
   "name": "julia",
   "version": "1.10.3"
  }
 },
 "nbformat": 4,
 "nbformat_minor": 5
}
